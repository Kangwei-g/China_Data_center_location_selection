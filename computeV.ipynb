{
 "cells": [
  {
   "cell_type": "markdown",
   "id": "bcf89998-5163-45ee-b051-808d2cec7dcc",
   "metadata": {},
   "source": [
    "### 计算V"
   ]
  },
  {
   "cell_type": "code",
   "execution_count": 2,
   "id": "80aeb34e-7242-440e-a6e4-02359c018b29",
   "metadata": {},
   "outputs": [],
   "source": [
    "import numpy as np\n",
    "\n",
    "\n",
    "renkou = [795, 274, -232, -36, -9, 97, -141, -310, 1010, 596, 1382, -997, 228, -506, -13, -1483, -374, -646, 2793, -675, 67, -198, -777, -731, -73, 72, -105, -268, -1, 31, 279]\n",
    "zhongxin = [1, 1, 0, 0, 0, 0, 0, 0, 1, 0, 0, 0, 0, 0, 0, 0, 1, 0, 1, 0, 0, 1, 0, 0, 0, 0, 1, 0, 0, 0, 0]\n",
    "prices = [48449, 18224, 14513, 3450, 12897, 11345, 9703, 9460, 64706, 35518, 31857, 20047, 26387, 13670, 17563, 15380, 20863, 12355, 45592, 12543, 18294, 14268, 19170, 9236, 13500, 11867, 17418, 13109, 10935, 8780, 8523]\n",
    "bordering_provinces_count = [2, 2, 6, 4, 8, 3, 3, 2, 2, 4, 4, 6, 3, 6, 4, 6, 6, 6, 5, 4, 1, 5, 7, 5, 4, 4, 8, 6, 4, 3, 3]\n",
    "electricity_prices = [0.4883, 0.488, 0.62, 0.52, 0.52, 0.48, 0.42, 0.50, 0.53, 0.51, 0.53, 0.54, 0.57, 0.50, 0.60, 0.55, 0.56, 0.56, 0.59, 0.59, 0.53, 0.61, 0.52, 0.46, 0.42, 0.42, 0.42, 0.51, 0.38, 0.45, 0.39]\n",
    "air_pollution_indices = [28, 46, 69, 146, 90, 119, 133, 120, 40, 42, 34, 70, 24, 51, 68, 73, 53, 117, 63, 54, 53, 79, 99, 85, 33, 51, 138, 133, 80, 95, 137]\n",
    "energy_ratio_numbers = [14.8, 25, 19, 20, 18, 20, 20, 25, 16, 20, 20, 20, 30, 22, 25, 20, 20, 20, 55, 35, 35, 28, 25, 30, 25, 25, 35, 54, 20, 43.5, 30]\n",
    "\n",
    "# 针对越大越好的数据进行归一化\n",
    "def normalize_larger_better(data):\n",
    "    min_value = np.min(data)\n",
    "    max_value = np.max(data)\n",
    "    return [(x - min_value) / (max_value - min_value) if max_value!= min_value else 0 for x in data]\n",
    "\n",
    "# 针对越小越好的数据进行归一化\n",
    "def normalize_smaller_better(data):\n",
    "    min_value = np.min(data)\n",
    "    max_value = np.max(data)\n",
    "    return [(max_value - x) / (max_value - min_value) if max_value!= min_value else 0 for x in data]\n",
    "\n",
    "# 对各数据组分别按标准进行标准化\n",
    "renkou_normalized = normalize_larger_better(renkou)\n",
    "zhongxin_normalized = normalize_larger_better(zhongxin)\n",
    "prices_normalized = normalize_smaller_better(prices)\n",
    "bordering_provinces_count_normalized = normalize_larger_better(bordering_provinces_count)\n",
    "electricity_prices_normalized = normalize_smaller_better(electricity_prices)\n",
    "air_pollution_indices_normalized = normalize_smaller_better(air_pollution_indices)\n",
    "energy_ratio_numbers_normalized = normalize_larger_better(energy_ratio_numbers)"
   ]
  },
  {
   "cell_type": "code",
   "execution_count": 4,
   "id": "a6aa6716-8931-413f-880d-3eeb6fed51bd",
   "metadata": {},
   "outputs": [
    {
     "name": "stdout",
     "output_type": "stream",
     "text": [
      "[0.42, 0.464, 0.481, 0.388, 0.637, 0.357, 0.373, 0.287, 0.365, 0.419, 0.444, 0.487, 0.363, 0.548, 0.382, 0.477, 0.626, 0.469, 0.613, 0.398, 0.264, 0.551, 0.546, 0.496, 0.5, 0.495, 0.775, 0.521, 0.489, 0.413, 0.408]\n"
     ]
    }
   ],
   "source": [
    "percentages = [0.1155, 0.1206, 0.1248, 0.4002, 0.1160, 0.0870, 0.0359]\n",
    "V = [\n",
    "    round(r * percentages[0] + z * percentages[1] + p * percentages[2] + b * percentages[3] + e * percentages[4] + a * percentages[5] + en * percentages[6], 3)\n",
    "    for r, z, p, b, e, a, en in zip(\n",
    "        renkou_normalized,\n",
    "        zhongxin_normalized,\n",
    "        prices_normalized,\n",
    "        bordering_provinces_count_normalized,\n",
    "        electricity_prices_normalized,\n",
    "        air_pollution_indices_normalized,\n",
    "        energy_ratio_numbers_normalized\n",
    "    )\n",
    "]\n",
    "print(V)\n"
   ]
  },
  {
   "cell_type": "code",
   "execution_count": 6,
   "id": "589e9008-b9c3-487c-bad8-ba7d52e7b5be",
   "metadata": {},
   "outputs": [
    {
     "name": "stdout",
     "output_type": "stream",
     "text": [
      "最大的三个数的索引: [26, 4, 16]\n",
      "最小的三个数的索引: [20, 7, 5]\n"
     ]
    }
   ],
   "source": [
    "data = V\n",
    "# 获取最大的三个数的索引\n",
    "sorted_indices_max = sorted(range(len(data)), key=lambda k: data[k], reverse=True)[:3]\n",
    "# 获取最小的三个数的索引\n",
    "sorted_indices_min = sorted(range(len(data)), key=lambda k: data[k])[:3]\n",
    "\n",
    "print(\"最大的三个数的索引:\", sorted_indices_max)\n",
    "print(\"最小的三个数的索引:\", sorted_indices_min)"
   ]
  },
  {
   "cell_type": "code",
   "execution_count": 14,
   "id": "7cad0e62-191d-410f-ade1-bfaca0723fd2",
   "metadata": {},
   "outputs": [
    {
     "name": "stdout",
     "output_type": "stream",
     "text": [
      "陕西 内蒙古 湖北\n",
      "海南 黑龙江 辽宁\n"
     ]
    }
   ],
   "source": [
    "didian =['北京', '天津', '河北', '山西', '内蒙古', '辽宁', '吉林', '黑龙江', '上海', '江苏', '浙江', '安徽', '福建', '江西', '山东', '河南', '湖北', '湖南', '广东', '广西', '海南', '重庆', '四川', '贵州', '云南', '西藏', '陕西', '甘肃', '青海', '宁夏', '新疆']\n",
    "print(didian[26],didian[4],didian[16])\n",
    "print(didian[20],didian[7],didian[5])"
   ]
  }
 ],
 "metadata": {
  "kernelspec": {
   "display_name": "Python 3 (ipykernel)",
   "language": "python",
   "name": "python3"
  },
  "language_info": {
   "codemirror_mode": {
    "name": "ipython",
    "version": 3
   },
   "file_extension": ".py",
   "mimetype": "text/x-python",
   "name": "python",
   "nbconvert_exporter": "python",
   "pygments_lexer": "ipython3",
   "version": "3.11.5"
  }
 },
 "nbformat": 4,
 "nbformat_minor": 5
}
